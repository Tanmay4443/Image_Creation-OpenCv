{
 "cells": [
  {
   "cell_type": "code",
   "execution_count": 1,
   "id": "556de7cc",
   "metadata": {},
   "outputs": [],
   "source": [
    "import numpy as np\n",
    "import cv2\n",
    "import random"
   ]
  },
  {
   "cell_type": "code",
   "execution_count": 2,
   "id": "1d80918e",
   "metadata": {},
   "outputs": [],
   "source": [
    "width = 800\n",
    "height = 600\n",
    "canvas = np.ones((height, width, 3), dtype=np.uint8) * 255"
   ]
  },
  {
   "cell_type": "code",
   "execution_count": 3,
   "id": "100fd7d6",
   "metadata": {},
   "outputs": [],
   "source": [
    "num_circles = 200\n",
    "\n",
    "for _ in range(num_circles):\n",
    "    color = tuple(random.randint(0, 255) for _ in range(3))\n",
    "    center = (random.randint(0, width), random.randint(0, height))\n",
    "    radius = random.randint(5, 50)\n",
    "    cv2.circle(canvas, center, radius, color, -1)\n"
   ]
  },
  {
   "cell_type": "code",
   "execution_count": 4,
   "id": "c314ac03",
   "metadata": {},
   "outputs": [],
   "source": [
    "cv2.imshow('Colorful Circles', canvas)\n",
    "cv2.waitKey(0)\n",
    "cv2.destroyAllWindows()"
   ]
  },
  {
   "cell_type": "code",
   "execution_count": null,
   "id": "f918b875",
   "metadata": {},
   "outputs": [],
   "source": []
  }
 ],
 "metadata": {
  "kernelspec": {
   "display_name": "Python 3 (ipykernel)",
   "language": "python",
   "name": "python3"
  },
  "language_info": {
   "codemirror_mode": {
    "name": "ipython",
    "version": 3
   },
   "file_extension": ".py",
   "mimetype": "text/x-python",
   "name": "python",
   "nbconvert_exporter": "python",
   "pygments_lexer": "ipython3",
   "version": "3.9.7"
  }
 },
 "nbformat": 4,
 "nbformat_minor": 5
}
