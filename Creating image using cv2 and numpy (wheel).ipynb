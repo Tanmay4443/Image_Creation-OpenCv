{
 "cells": [
  {
   "cell_type": "code",
   "execution_count": 1,
   "id": "ad15dd16",
   "metadata": {},
   "outputs": [],
   "source": [
    "import numpy as np\n",
    "import cv2"
   ]
  },
  {
   "cell_type": "code",
   "execution_count": 2,
   "id": "312cf68e",
   "metadata": {},
   "outputs": [],
   "source": [
    "width = 400\n",
    "height = 400\n",
    "canvas = np.ones((height, width, 3), dtype=np.uint8) * 255\n",
    "colors = [(255, 0, 0), (0, 255, 0), (0, 0, 255)]"
   ]
  },
  {
   "cell_type": "code",
   "execution_count": 3,
   "id": "7be8ba77",
   "metadata": {},
   "outputs": [],
   "source": [
    "center_x, center_y = width // 2, height // 2\n",
    "radius = 100\n",
    "num_slices = 12\n",
    "angle_per_slice = 360 / num_slices\n",
    "\n",
    "for i in range(num_slices):\n",
    "    start_angle = i * angle_per_slice\n",
    "    end_angle = (i + 1) * angle_per_slice\n",
    "    color = colors[i % len(colors)]\n",
    "    cv2.ellipse(canvas, (center_x, center_y), (radius, radius), 0, start_angle, end_angle, color, -1)"
   ]
  },
  {
   "cell_type": "code",
   "execution_count": 4,
   "id": "d6c4ec1c",
   "metadata": {},
   "outputs": [],
   "source": [
    "cv2.imshow('Spinning Wheel Illusion', canvas)\n",
    "cv2.waitKey(0)\n",
    "cv2.destroyAllWindows()"
   ]
  },
  {
   "cell_type": "code",
   "execution_count": null,
   "id": "6c8d8376",
   "metadata": {},
   "outputs": [],
   "source": []
  }
 ],
 "metadata": {
  "kernelspec": {
   "display_name": "Python 3 (ipykernel)",
   "language": "python",
   "name": "python3"
  },
  "language_info": {
   "codemirror_mode": {
    "name": "ipython",
    "version": 3
   },
   "file_extension": ".py",
   "mimetype": "text/x-python",
   "name": "python",
   "nbconvert_exporter": "python",
   "pygments_lexer": "ipython3",
   "version": "3.9.7"
  }
 },
 "nbformat": 4,
 "nbformat_minor": 5
}
